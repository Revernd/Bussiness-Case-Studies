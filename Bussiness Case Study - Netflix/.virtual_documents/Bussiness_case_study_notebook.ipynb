


# Importing necessary libraries
import pandas as pd
import numpy as np
import seaborn as sns
import matplotlib.pyplot as plt

# Load the dataset
netflix_data = pd.read_csv("netflix.csv")
netflix_data.head()








# Observations on the shape of data
print("Shape of the data:", netflix_data.shape)
# Data types of all the attributes
print("Data types of attributes:\n", netflix_data.dtypes)
# Convert 'type' and 'rating' columns to 'category'
netflix_data['type'] = netflix_data['type'].astype('category')
netflix_data['rating'] = netflix_data['rating'].astype('category')
netflix_data['country'] = netflix_data['country'].astype('category')

# Missing value detection
print("Missing values count:\n", netflix_data.isnull().sum())
# Statistical summary
print("Statistical summary:\n", netflix_data.describe())







print("value counts for each attribute:")
for col in netflix_data.columns:
    if netflix_data[col].dtype == 'int64':
        print(col, ":", netflix_data[col].value_counts())

print("Unique values for each attribute:")
for col in netflix_data.columns:
    print(col, ":", netflix_data[col].nunique())






netflix_data['actor'] = netflix_data['cast'].str.split(', ')
netflix_data['director'] = netflix_data['director'].str.split(', ')
netflix_data['country'] = netflix_data['country'].str.split(', ')

netflix_data = netflix_data.explode('actor')
netflix_data = netflix_data.explode('director')
netflix_data = netflix_data.explode('country')

netflix_data.drop(['cast'], axis=1, inplace=True)
netflix_data.reset_index()

netflix_data.head()


# Since there are no missing values in the 'title' and 'release_year' columns, we can drop rows with missing values in other columns.
netflix_data.dropna(subset=['director', 'actor', 'country', 'date_added', 'rating', 'duration', 'listed_in', 'description'], inplace=True)

# Convert date columns to datetime format, handling errors
netflix_data['date_added'] = pd.to_datetime(netflix_data['date_added'], errors='coerce')

# Check for rows with invalid dates
invalid_dates = netflix_data['date_added'].isnull()
# Drop rows with invalid dates
netflix_data.dropna(subset=['date_added'], inplace=True)
# Extract relevant information from date columns
netflix_data['year_added'] = netflix_data['date_added'].dt.year
netflix_data['month_added'] = netflix_data['date_added'].dt.month

# Display first few rows of preprocessed data
netflix_data.head()


# Split 'duration' into separate columns for movies' length and TV shows' number of seasons
netflix_data['duration_min'] = netflix_data['duration'].str.extract(r'(\d+)', expand=False)
netflix_data['seasons'] = netflix_data['duration'].str.extract(r'(\d+) Seasons', expand=False)

# Convert 'duration_min' and 'seasons' columns to numeric type
netflix_data['duration_min'] = pd.to_numeric(netflix_data['duration_min'], errors='coerce')
netflix_data['seasons'] = pd.to_numeric(netflix_data['seasons'], errors='coerce')

# Drop the original 'duration' column
netflix_data.drop(columns=['duration'], inplace=True)

# Displaying the first few rows of the preprocessed data
netflix_data.head()






# Setting up the plotting style
sns.set(style="whitegrid")

# Define a function to create the required univariate plots for continuous variables
def plot_continuous_variable(data, variable):
    plt.figure(figsize=(12, 6))

    # Histogram
    plt.subplot(2, 2, 1)
    plt.hist(data[variable].dropna(), bins=20, color='blue', alpha=0.7)
    plt.title('Histogram')

    # Density plot
    plt.subplot(2, 2, 2)
    sns.kdeplot(data[variable].dropna(), color='blue', shade=True)
    plt.title('Density Plot')
    
    plt.tight_layout()
    plt.show()

# Plotting for 'release_year'
plot_continuous_variable(netflix_data, 'release_year')



# Plotting for 'duration_min'
plot_continuous_variable(netflix_data, 'duration_min')



# Plotting for 'duration_min'
plot_continuous_variable(netflix_data, 'seasons')



# Define a function to create the required univariate plots for categorical variables
def plot_categorical_variable(data, category, figsize=(12, 6)):
    plt.figure(figsize=figsize)

    # Baxplot
    if len(data[category].value_counts()) > 5:
        top_5_categories = data[category].value_counts().nlargest(5).index
    # Filter the data to include only the top 5 categories
        filter_data = data[data[category].isin(top_5_categories)]
        plt.subplot(2, 2, 1)
        sns.countplot(data=filter_data, x=category, palette='Set2', order=filter_data[category].value_counts().index)
    else:
        sns.countplot(data=data, x=category, palette='Set2')
    plt.title(f'Barplot of {category}')
    plt.xlabel(category)

    # piechart
    data_counts = data[category].value_counts()
    if len(data_counts) >= 5:
        data_counts = data_counts[:5]
    plt.subplot(2, 2, 2)
    plt.pie(data_counts, labels=data_counts.index, autopct='%1.1f%%', startangle=140, colors=['lightblue', 'lightgreen'])
    plt.title(f'PieChart of {category}')
    plt.axis('equal')

    plt.tight_layout()
    plt.show()

plot_categorical_variable(netflix_data, 'type')


top_5_categories = netflix_data['rating'].value_counts().nlargest(5).index
    # Filter the data to include only the top 5 categories
filter_data = netflix_data[netflix_data['type'].isin(top_5_categories)]
filter_data.value_counts()


plot_categorical_variable(netflix_data, 'rating', (20, 6))


plot_categorical_variable(netflix_data, 'country')





# Define a function to create the required bivariate plots for categorical variables
def plot_continuous_variable(data, category, variable, figsize=(12, 6)):
    plt.figure(figsize=figsize)
    
    # Boxplot
    plt.subplot(2, 2, 1)
    sns.boxplot(x=category, y=variable, data=netflix_data)
    plt.title('Boxplot of Release Year by Type')
    plt.xlabel(category)
    plt.ylabel(variable)

    # violin plot
    plt.subplot(2, 2, 2)
    sns.violinplot(x=category, y=variable, data=netflix_data)
    plt.title(f'Violinplot of Release Year by {category}')
    plt.xlabel(category)
    plt.ylabel(variable)
    
    plt.tight_layout()
    plt.show()

plot_continuous_variable(netflix_data, 'type', 'release_year')


plot_continuous_variable(netflix_data, 'rating', 'release_year', (20, 8))






plt.figure(figsize=(10, 6))
sns.heatmap(netflix_data.corr(), annot=True, cmap='coolwarm')
plt.title('Correlation Heatmap')
plt.show()




# Missing Value & Outlier check
print("Missing values count:\n", netflix_data.isnull().sum())










